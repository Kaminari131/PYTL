{
 "cells": [
  {
   "cell_type": "code",
   "execution_count": 6,
   "metadata": {},
   "outputs": [
    {
     "data": {
      "text/html": [
       "<div>\n",
       "<style scoped>\n",
       "    .dataframe tbody tr th:only-of-type {\n",
       "        vertical-align: middle;\n",
       "    }\n",
       "\n",
       "    .dataframe tbody tr th {\n",
       "        vertical-align: top;\n",
       "    }\n",
       "\n",
       "    .dataframe thead th {\n",
       "        text-align: right;\n",
       "    }\n",
       "</style>\n",
       "<table border=\"1\" class=\"dataframe\">\n",
       "  <thead>\n",
       "    <tr style=\"text-align: right;\">\n",
       "      <th></th>\n",
       "      <th>v1</th>\n",
       "      <th>v2</th>\n",
       "    </tr>\n",
       "  </thead>\n",
       "  <tbody>\n",
       "    <tr>\n",
       "      <th>1165</th>\n",
       "      <td>ham</td>\n",
       "      <td>Nhắc nhở: Cuộc họp nhóm sẽ diễn ra vào 14h chi...</td>\n",
       "    </tr>\n",
       "    <tr>\n",
       "      <th>1101</th>\n",
       "      <td>ham</td>\n",
       "      <td>Thầy cô gửi thông báo về việc cập nhật sách gi...</td>\n",
       "    </tr>\n",
       "    <tr>\n",
       "      <th>1363</th>\n",
       "      <td>ham</td>\n",
       "      <td>**\"Chào anh Quân, Em đã liên hệ với bên vận ch...</td>\n",
       "    </tr>\n",
       "    <tr>\n",
       "      <th>369</th>\n",
       "      <td>ham</td>\n",
       "      <td>Tôi đã nhận được thông tin về dự án và sẽ phản...</td>\n",
       "    </tr>\n",
       "    <tr>\n",
       "      <th>1097</th>\n",
       "      <td>ham</td>\n",
       "      <td>Bạn đã được thêm vào lớp học lập trình cơ bản....</td>\n",
       "    </tr>\n",
       "  </tbody>\n",
       "</table>\n",
       "</div>"
      ],
      "text/plain": [
       "       v1                                                 v2\n",
       "1165  ham  Nhắc nhở: Cuộc họp nhóm sẽ diễn ra vào 14h chi...\n",
       "1101  ham  Thầy cô gửi thông báo về việc cập nhật sách gi...\n",
       "1363  ham  **\"Chào anh Quân, Em đã liên hệ với bên vận ch...\n",
       "369   ham  Tôi đã nhận được thông tin về dự án và sẽ phản...\n",
       "1097  ham  Bạn đã được thêm vào lớp học lập trình cơ bản...."
      ]
     },
     "execution_count": 6,
     "metadata": {},
     "output_type": "execute_result"
    }
   ],
   "source": [
    "import pandas as pd\n",
    "import chardet\n",
    "\n",
    "import pandas as pd\n",
    "df = pd.read_csv('C:/Users/Admin/TNTT/spam-5 (1).csv')\n",
    "df.sample(5) "
   ]
  },
  {
   "cell_type": "code",
   "execution_count": 7,
   "metadata": {},
   "outputs": [
    {
     "data": {
      "text/html": [
       "<div>\n",
       "<style scoped>\n",
       "    .dataframe tbody tr th:only-of-type {\n",
       "        vertical-align: middle;\n",
       "    }\n",
       "\n",
       "    .dataframe tbody tr th {\n",
       "        vertical-align: top;\n",
       "    }\n",
       "\n",
       "    .dataframe thead tr th {\n",
       "        text-align: left;\n",
       "    }\n",
       "\n",
       "    .dataframe thead tr:last-of-type th {\n",
       "        text-align: right;\n",
       "    }\n",
       "</style>\n",
       "<table border=\"1\" class=\"dataframe\">\n",
       "  <thead>\n",
       "    <tr>\n",
       "      <th></th>\n",
       "      <th colspan=\"4\" halign=\"left\">v2</th>\n",
       "    </tr>\n",
       "    <tr>\n",
       "      <th></th>\n",
       "      <th>count</th>\n",
       "      <th>unique</th>\n",
       "      <th>top</th>\n",
       "      <th>freq</th>\n",
       "    </tr>\n",
       "    <tr>\n",
       "      <th>v1</th>\n",
       "      <th></th>\n",
       "      <th></th>\n",
       "      <th></th>\n",
       "      <th></th>\n",
       "    </tr>\n",
       "  </thead>\n",
       "  <tbody>\n",
       "    <tr>\n",
       "      <th>ham</th>\n",
       "      <td>639</td>\n",
       "      <td>638</td>\n",
       "      <td>Lên kế hoạch cho cuộc họp tiếp theo. Đừng quên...</td>\n",
       "      <td>2</td>\n",
       "    </tr>\n",
       "    <tr>\n",
       "      <th>spam</th>\n",
       "      <td>742</td>\n",
       "      <td>741</td>\n",
       "      <td>Chúng tôi gửi đến bạn món quà trị giá 100 triệ...</td>\n",
       "      <td>2</td>\n",
       "    </tr>\n",
       "  </tbody>\n",
       "</table>\n",
       "</div>"
      ],
      "text/plain": [
       "        v2                                                               \n",
       "     count unique                                                top freq\n",
       "v1                                                                       \n",
       "ham    639    638  Lên kế hoạch cho cuộc họp tiếp theo. Đừng quên...    2\n",
       "spam   742    741  Chúng tôi gửi đến bạn món quà trị giá 100 triệ...    2"
      ]
     },
     "execution_count": 7,
     "metadata": {},
     "output_type": "execute_result"
    }
   ],
   "source": [
    "df.groupby('v1').describe()"
   ]
  },
  {
   "cell_type": "code",
   "execution_count": 8,
   "metadata": {},
   "outputs": [
    {
     "data": {
      "text/plain": [
       "(742, 2)"
      ]
     },
     "execution_count": 8,
     "metadata": {},
     "output_type": "execute_result"
    }
   ],
   "source": [
    "df_spam = df[df['v1'] == 'spam']\n",
    "df_spam.shape"
   ]
  },
  {
   "cell_type": "code",
   "execution_count": 9,
   "metadata": {},
   "outputs": [
    {
     "data": {
      "text/plain": [
       "(640, 2)"
      ]
     },
     "execution_count": 9,
     "metadata": {},
     "output_type": "execute_result"
    }
   ],
   "source": [
    "df_ham = df[df['v1'] == 'ham']\n",
    "df_ham.shape"
   ]
  },
  {
   "cell_type": "code",
   "execution_count": 10,
   "metadata": {},
   "outputs": [
    {
     "data": {
      "text/plain": [
       "(640, 2)"
      ]
     },
     "execution_count": 10,
     "metadata": {},
     "output_type": "execute_result"
    }
   ],
   "source": [
    "df_spam_downsampled = df_spam.sample(df_ham.shape[0])\n",
    "df_spam_downsampled.shape"
   ]
  },
  {
   "cell_type": "code",
   "execution_count": 11,
   "metadata": {},
   "outputs": [
    {
     "data": {
      "text/plain": [
       "(1280, 2)"
      ]
     },
     "execution_count": 11,
     "metadata": {},
     "output_type": "execute_result"
    }
   ],
   "source": [
    "import pandas as pd\n",
    "df_balanced = pd.concat([df_ham, df_spam_downsampled])\n",
    "df_balanced.shape"
   ]
  },
  {
   "cell_type": "code",
   "execution_count": 12,
   "metadata": {},
   "outputs": [
    {
     "data": {
      "text/html": [
       "<div>\n",
       "<style scoped>\n",
       "    .dataframe tbody tr th:only-of-type {\n",
       "        vertical-align: middle;\n",
       "    }\n",
       "\n",
       "    .dataframe tbody tr th {\n",
       "        vertical-align: top;\n",
       "    }\n",
       "\n",
       "    .dataframe thead th {\n",
       "        text-align: right;\n",
       "    }\n",
       "</style>\n",
       "<table border=\"1\" class=\"dataframe\">\n",
       "  <thead>\n",
       "    <tr style=\"text-align: right;\">\n",
       "      <th></th>\n",
       "      <th>v1</th>\n",
       "      <th>v2</th>\n",
       "    </tr>\n",
       "  </thead>\n",
       "  <tbody>\n",
       "    <tr>\n",
       "      <th>718</th>\n",
       "      <td>spam</td>\n",
       "      <td>\"Ứng dụng yêu thích của bạn vừa được cập nhật....</td>\n",
       "    </tr>\n",
       "    <tr>\n",
       "      <th>1053</th>\n",
       "      <td>ham</td>\n",
       "      <td>Kế hoạch tuần tới đã được cập nhật. Vui lòng k...</td>\n",
       "    </tr>\n",
       "    <tr>\n",
       "      <th>539</th>\n",
       "      <td>spam</td>\n",
       "      <td>Siêu giảm giá vào cuối tuần này! Sản phẩm giảm...</td>\n",
       "    </tr>\n",
       "    <tr>\n",
       "      <th>515</th>\n",
       "      <td>ham</td>\n",
       "      <td>Cuộc họp sáng nay sẽ tập trung vào kế hoạch tr...</td>\n",
       "    </tr>\n",
       "    <tr>\n",
       "      <th>345</th>\n",
       "      <td>spam</td>\n",
       "      <td>Tham gia chương trình và nhận ngay thẻ quà tặn...</td>\n",
       "    </tr>\n",
       "  </tbody>\n",
       "</table>\n",
       "</div>"
      ],
      "text/plain": [
       "        v1                                                 v2\n",
       "718   spam  \"Ứng dụng yêu thích của bạn vừa được cập nhật....\n",
       "1053   ham  Kế hoạch tuần tới đã được cập nhật. Vui lòng k...\n",
       "539   spam  Siêu giảm giá vào cuối tuần này! Sản phẩm giảm...\n",
       "515    ham  Cuộc họp sáng nay sẽ tập trung vào kế hoạch tr...\n",
       "345   spam  Tham gia chương trình và nhận ngay thẻ quà tặn..."
      ]
     },
     "execution_count": 12,
     "metadata": {},
     "output_type": "execute_result"
    }
   ],
   "source": [
    "df_balanced.sample(5)"
   ]
  },
  {
   "cell_type": "code",
   "execution_count": 13,
   "metadata": {},
   "outputs": [
    {
     "data": {
      "text/html": [
       "<div>\n",
       "<style scoped>\n",
       "    .dataframe tbody tr th:only-of-type {\n",
       "        vertical-align: middle;\n",
       "    }\n",
       "\n",
       "    .dataframe tbody tr th {\n",
       "        vertical-align: top;\n",
       "    }\n",
       "\n",
       "    .dataframe thead tr th {\n",
       "        text-align: left;\n",
       "    }\n",
       "\n",
       "    .dataframe thead tr:last-of-type th {\n",
       "        text-align: right;\n",
       "    }\n",
       "</style>\n",
       "<table border=\"1\" class=\"dataframe\">\n",
       "  <thead>\n",
       "    <tr>\n",
       "      <th></th>\n",
       "      <th colspan=\"4\" halign=\"left\">v2</th>\n",
       "    </tr>\n",
       "    <tr>\n",
       "      <th></th>\n",
       "      <th>count</th>\n",
       "      <th>unique</th>\n",
       "      <th>top</th>\n",
       "      <th>freq</th>\n",
       "    </tr>\n",
       "    <tr>\n",
       "      <th>v1</th>\n",
       "      <th></th>\n",
       "      <th></th>\n",
       "      <th></th>\n",
       "      <th></th>\n",
       "    </tr>\n",
       "  </thead>\n",
       "  <tbody>\n",
       "    <tr>\n",
       "      <th>ham</th>\n",
       "      <td>639</td>\n",
       "      <td>638</td>\n",
       "      <td>Lên kế hoạch cho cuộc họp tiếp theo. Đừng quên...</td>\n",
       "      <td>2</td>\n",
       "    </tr>\n",
       "    <tr>\n",
       "      <th>spam</th>\n",
       "      <td>640</td>\n",
       "      <td>640</td>\n",
       "      <td>**\"Tăng cường sức khỏe với sản phẩm collagen n...</td>\n",
       "      <td>1</td>\n",
       "    </tr>\n",
       "  </tbody>\n",
       "</table>\n",
       "</div>"
      ],
      "text/plain": [
       "        v2                                                               \n",
       "     count unique                                                top freq\n",
       "v1                                                                       \n",
       "ham    639    638  Lên kế hoạch cho cuộc họp tiếp theo. Đừng quên...    2\n",
       "spam   640    640  **\"Tăng cường sức khỏe với sản phẩm collagen n...    1"
      ]
     },
     "execution_count": 13,
     "metadata": {},
     "output_type": "execute_result"
    }
   ],
   "source": [
    "df_balanced.groupby('v1').describe()"
   ]
  },
  {
   "cell_type": "code",
   "execution_count": 14,
   "metadata": {},
   "outputs": [
    {
     "name": "stdout",
     "output_type": "stream",
     "text": [
      "        v1                                                 v2  label_num\n",
      "1215   ham  Kính gửi quý phụ huynh, Nhằm hỗ trợ các em học...          0\n",
      "475    ham  Chúng ta sẽ có cuộc họp vào chiều nay để thảo ...          0\n",
      "1146  spam  Hàng ngàn sản phẩm đồ chơi trẻ em giảm giá 40%...          1\n",
      "1368   ham  **\"Chào anh Phong, Báo cáo phân tích dữ liệu d...          0\n",
      "124   spam  Tôi biết bạn đang tìm kiếm một món quà tuyệt v...          1\n",
      "389   spam  Hãy tham gia cuộc thi của chúng tôi và có cơ h...          1\n",
      "1169   ham  Chương trình từ thiện của tổ chức sẽ tổ chức p...          0\n",
      "1265   ham  **\"Anh Hùng thân mến, Đây là email xác nhận đặ...          0\n",
      "1282   ham  Anh Bình thân mến, Đây là email xác nhận đăng ...          0\n",
      "388   spam  Nhanh tay đăng ký để nhận ngay voucher trị giá...          1\n"
     ]
    }
   ],
   "source": [
    "if 'v1' in df_balanced.columns:\n",
    "    df_balanced['label_num'] = df_balanced['v1'].map({'ham':0, 'spam':1})\n",
    "    print(df_balanced.sample(10))\n",
    "else:\n",
    "    print(\"khum cóa\")"
   ]
  },
  {
   "cell_type": "code",
   "execution_count": 15,
   "metadata": {},
   "outputs": [],
   "source": [
    "import pandas as pd\n",
    "import numpy as np\n",
    "import re\n",
    "import torch\n",
    "from pyvi import ViTokenizer\n",
    "from sklearn.base import BaseEstimator, TransformerMixin\n",
    "from sklearn.feature_extraction.text import TfidfVectorizer\n",
    "from sklearn.pipeline import FeatureUnion\n",
    "from sklearn.model_selection import train_test_split, RandomizedSearchCV\n",
    "from sklearn.ensemble import RandomForestClassifier\n",
    "from sklearn.metrics import classification_report, confusion_matrix, roc_curve, auc\n",
    "from scipy.stats import randint, uniform\n",
    "from transformers import AutoTokenizer, AutoModel\n",
    "import matplotlib.pyplot as plt\n",
    "import seaborn as sns\n",
    "from collections import Counter"
   ]
  },
  {
   "cell_type": "code",
   "execution_count": 20,
   "metadata": {},
   "outputs": [
    {
     "name": "stdout",
     "output_type": "stream",
     "text": [
      "Từ đơn Spam: Counter({'NUM': 467, 'vnđ': 191, 'triệu': 151, 'tặng': 133, 'NUMNUM': 131, 'quà': 126, 'nhấn': 106, 'mua': 95, 'thẻ': 63, 'đồng': 61, 'trúng': 52, 'tải': 47, 'lỡ': 46, 'khóa': 44, 'hàng': 43, 'học': 41, 'giá': 41, 'đừng': 39, 'thưởng': 37, 'NUMNUMNUM': 31, 'voucher': 29, 'gói': 28, 'vé': 27, 'gọi': 26, 'abc': 24, 'thi': 23, 'online': 22, 'hotline': 20, 'chuyến': 20, 'tuần': 19, 'app': 17, 'tiền': 15, 'chào': 14, 'iphone': 14, 'đơn': 14, 'chờ': 13, 'xyz': 13, 'cân': 12, 'tỷ': 12, 'da': 12, 'vòng': 11, 'giúp': 11, 'siêu': 11, 'phiếu': 11, 'thử': 10, 'giải': 10, 'sốc': 10, 'nhấp': 10, 'yêu': 9, 'gửi': 9, 'mùa': 9, 'usd': 9, 'mã': 9, 'lịch': 9, 'cực': 9, 'món': 9, 'click': 9, 'link': 9, 'tập': 8, 'đồ': 8, 'laptop': 8, 'phim': 8, 'ví': 7, 'mời': 7, 'vnđtháng': 7, 'vay': 7, 'ảnh': 6, 'website': 6, 'gym': 6, 'tour': 6, 'tết': 6, 'kiếm': 6, 'phòng': 5, 'nâng': 5, 'kính': 5, 'hoàn': 5, 'tiếng': 5, 'sh': 5, 'đêm': 5, 'tri': 5, 'ân': 5, 'thắng': 5, 'ngàn': 5, 'hạn': 5, 'nhật': 4, 'mạng': 4, 'ngắn': 4, 'sách': 4, 'ga': 4, 'điền': 4, 'hè': 4, 'trở': 4, 'giao': 4, 'internet': 4, 'phú': 4, 'quốc': 4, 'mơ': 4, 'săn': 4, 'vàng': 4, 'sinh': 4, 'ghé': 4, 'kèm': 4, 'maldives': 4, 'spa': 4, 'rẻ': 4, 'vip': 4, 'dưỡng': 4, 'chỗ': 4, 'pro': 4, 'vốn': 4, 'NUMgb': 4, 'xanh': 3, 'đầu': 3, 'gấp': 3, 'coupon': 3, 'cước': 3, 'kỳ': 3, 'nghỉ': 3, 'kẻo': 3, 'đẹp': 3, 'phút': 3, 'NUMNUMnăm': 3, 'honda': 3, 'xe': 3, 'visa': 3, 'bay': 3, 'đông': 3, 'galaxy': 3, 'phạt': 3, 'fitness': 3, 'game': 3, 'email': 3, 'hóa': 3, 'sale': 3, 'thả': 3, 'lỗi': 2, 'tâm': 2, 'video': 2, 'python': 2, 'wwwdienmayxanhvn': 2, 'cào': 2, 'đôi': 2, 'giành': 2, 'amazon': 2, 'khoản': 2, 'wwwdienmayabcvn': 2, 'nhập': 2, 'đọc': 2, 'viết': 2, 'paris': 2, 'shop': 2, 'giày': 2, 'cool': 2, 'steps': 2, 'trà': 2, 'NUMkg': 2, 'vnđngười': 2, 'resort': 2, 'lạ': 2, 'khủng': 2, 'xách': 2, 'dòng': 2, 'bảng': 2, 'diễn': 2, 'đà': 2, 'lạt': 2, 'happy': 2, 'yoga': 2, 'sống': 2, 'hẹn': 2, 'giấc': 2, 'bali': 2, 'việt': 2, 'nguyên': 2, 'đán': 2, 'smartphone': 2, 'max': 2, 'tivi': 2, 'samsung': 2, 'hưởng': 2, 'nghìn': 2, 'nhạc': 2, 'biến': 2, 'thành': 2, 'concert': 2, 'dây': 2, 'virus': 2, 'flash': 2, 'valley': 2, 'trải': 2, 'nghiệm': 2, 'hòa': 2, 'camera': 2, 'nhắn': 2, 'vinfast': 2, 'giỏ': 2, 'collagen': 1, 'wwwcollagencangdavn': 1, 'fitpro': 1, 'wwwfitprovn': 1, 'gỗ': 1, 'minh': 1, 'wwwdogominhtamvn': 1, 'gắn': 1, 'thái': 1, 'lan': 1, 'dạy': 1, 'mềm': 1, 'chăn': 1, 'gối': 1, 'wwwquatangtethongminhcom': 1, 'châu': 1, 'âu': 1, 'wwwthamgiaduthuongvn': 1, 'wwwbaohiemtoancauvn': 1, 'hát': 1, 'NUMhNUM': 1, 'saleNUM': 1, 'master': 1, 'english': 1, 'wwwmasterenglishvn': 1, 'wwwhoctienganhvnvn': 1, 'streaming': 1, 'đồngđêm': 1, 'ebook': 1, 'wwwhocvientructuyenvn': 1, 'bạnbạn': 1, 'wwwtravelprizeNUMcom': 1, 'bạntrân': 1, 'trọng': 1, 'tung': 1, 'tất': 1, 'wwwcoolstepsvn': 1, 'wwwcanhohoanhapvn': 1, 'wwwshopcongngheabccom': 1, 'phụ': 1, 'wwwtraabccom': 1, 'nhầm': 1, 'hai': 1, 'thăm': 1, 'wwwabccosmeticscom': 1, 'buffet': 1, 'wwwphuquoctourvn': 1, 'phí': 1, 'đổi': 1, 'balo': 1, 'wwwxyzcomputerscom': 1, 'mỏng': 1, 'nhẹ': 1, 'lo': 1, 'môn': 1, 'toán': 1, 'đề': 1, 'luyện': 1, 'wwwdaututhongminhvn': 1, 'trip': 1, 'wwwhappytripvn': 1, 'NUMh': 1, 'ielts': 1, 'wwwdulichmaldivevn': 1, 'home': 1, 'lái': 1, 'wwwhondaxemayvn': 1, 'skyview': 1, 'residence': 1, 'mẫu': 1, 'linh': 1, 'lâm': 1, 'wwwthoitranglinhlamvn': 1, 'phép': 1, 'đón': 1, 'otp': 1, 'wwwtourhanquoccom': 1, 'wwwnoithathoanmyvn': 1, 'trăm': 1, 'wwwnhasachtamvietvn': 1, 'wwwsieuuudairesortcom': 1, 'dịp': 1, 'wwwsuperdealvncom': 1, 'tạm': 1, 'travelpro': 1, 'wwwtravelprovn': 1, 'wwwquatangcongnghevn': 1, 'wwwchungkhoanprovn': 1, 'wwwvetettetvn': 1, 'câu': 1, 'vnđnăm': 1, 'đo': 1, 'bắp': 1, 'rạp': 1, 'cgv': 1, 'khỏe': 1, 'wwwthammyhoanggiavn': 1, 'wwwmyphamsieuuuvn': 1, 'đắt': 1, 'chuẩn': 1, 'wwwfitbodyvn': 1, 'fibermax': 1, 'wwwfibermaxvn': 1, 'hội': 1, 'an': 1, 'bình': 1, 'wwwabankvn': 1, 'shoppro': 1, 'wwwshopprovn': 1, 'thư': 1, 'wwwhoctructuyenvn': 1, 'NUMk': 1, 'nắm': 1, 'wwwthanhcongNUMngayvn': 1, 'tv': 1, 'wwwxyzstorevn': 1, 'suncity': 1, 'villas': 1, 'wwwsuncityvillasvn': 1, 'giỏi': 1, 'dáng': 1, 'trễ': 1, 'chiều': 1, 'growup': 1, 'plus': 1, 'wwwtangchieucaocom': 1, 'wwwgymprovn': 1, 'hiện': 1, 'kho': 1, 'tiktok': 1, 'wwwbanhangtiktokvn': 1, 'lượt': 1, 'wwwshoponlinevn': 1, 'sNUM': 1, 'buds': 1, 'wwwdienthoaisalevn': 1, 'mỹ': 1, 'cú': 1, 'chuột': 1, 'thuốc': 1, 'NUMNUMkg': 1, 'wwwgiamcanxyzcom': 1, 'kem': 1, 'wwwthevipbankvn': 1, 'combo': 1, 'loa': 1, 'bluetooth': 1, 'wwwdealabccom': 1, 'triệutháng': 1, 'wwwlamgiauNUMhvn': 1, 'thuế': 1, 'hot': 1, 'learning': 1, 'wwwabclearningvn': 1, 'california': 1, 'wwwcaligymvn': 1, 'wwwnganhanghanhphucvn': 1, 'quét': 1, 'wwwdautuhappyvalleyvn': 1, 'bừng': 1, 'kịch': 1, 'sàn': 1, 'máy': 1, 'chụp': 1, 'lọc': 1, 'shopee': 1, 'mall': 1, 'wwwshopeevn': 1, 'đất': 1, 'khu': 1, 'sun': 1, 'đồngnền': 1, 'wwwsunvalleyvn': 1, 'điện': 1, 'sạch': 1, 'wwwthucphamsachvn': 1, 'wwwfitnessprovn': 1, 'đi': 1, 'supernet': 1, 'vnpt': 1, 'mbps': 1, 'cắt': 1, 'tóc': 1, 'bàn': 1, 'wwwxyzbeautycom': 1, 'xịn': 1, 'wwwspahoanmyvn': 1, 'mode': 1, 'wwwabcpromotionvn': 1, 'shoppingnow': 1, 'wwwshoppingnowvn': 1, 'wwwsieuthimuasamvn': 1, 'wwwtaichinhxanhvn': 1, 'wwwdatvangprovn': 1, 'wwwsmartshopvn': 1, 'google': 1, 'drive': 1, 'wwwdriveboostvn': 1, 'tiki': 1, 'wwwtikivn': 1, 'thoại': 1, 'forex': 1, 'wwwforexmastervn': 1, 'facebook': 1, 'ngờ': 1, 'trao': 1, 'wwwbaoduongxehangdauvn': 1, 'xế': 1, 'wwwkimcuongbankvn': 1, 'sẵn': 1, 'slimfit': 1, 'wwwslimfitvn': 1, 'lux': 1, 'wwwvinfastsalevn': 1, 'showroom': 1, 'diệt': 1, 'smartwatch': 1, 'wwwnuochoachinhhangvn': 1, 'hương': 1, 'thơm': 1, 'wwwthietkedohoaexpertcom': 1, 'tận': 1, 'wwwquatetonlinecom': 1, 'chúc': 1})\n",
      "Từ đơn Ham: Counter({'họp': 224, 'gửi': 196, 'NUM': 160, 'tuần': 154, 'chào': 90, 'email': 69, 'đừng': 63, 'kèm': 62, 'diễn': 61, 'quên': 59, 'NUMh': 53, 'chiều': 44, 'đính': 43, 'lịch': 42, 'file': 41, 'mời': 38, 'giúp': 37, 'mong': 36, 'NUMNUM': 31, 'chúc': 30, 'tải': 28, 'kính': 27, 'chuyến': 23, 'học': 23, 'hàng': 21, 'quý': 19, 'kỳ': 19, 'phòng': 18, 'ban': 18, 'anhchị': 17, 'hẹn': 17, 'đơn': 17, 'thử': 16, 'đội': 16, 'vé': 15, 'bàn': 15, 'báo': 15, 'lễ': 13, 'mai': 13, 'hạn': 13, 'đi': 12, 'nghỉ': 12, 'thư': 12, 'marketing': 12, 'trường': 12, 'khóa': 11, 'sách': 11, 'thi': 11, 'ổn': 10, 'app': 10, 'thân': 10, 'abc': 10, 'hotline': 10, 'NUMNUMNUM': 9, 'nhắc': 8, 'tặng': 8, 'nộp': 8, 'lớp': 8, 'tuấn': 8, 'xong': 7, 'vòng': 7, 'quà': 7, 'giao': 7, 'hoa': 7, 'linh': 7, 'đồ': 6, 'mua': 6, 'vnđ': 6, 'trải': 6, 'nghiệm': 6, 'khám': 6, 'bóng': 6, 'câu': 6, 'xyz': 6, 'lan': 6, 'quân': 6, 'điện': 5, 'hiện': 5, 'giá': 5, 'tối': 5, 'link': 5, 'tiền': 5, 'bay': 5, 'bảng': 5, 'thầy': 5, 'huy': 5, 'nam': 5, 'hà': 5, 'hai': 4, 'sáu': 4, 'zoom': 4, 'kỹ': 4, 'mùa': 4, 'yêu': 4, 'bệnh': 4, 'xe': 4, 'mềm': 4, 'hóa': 4, 'mã': 4, 'tết': 4, 'yoga': 4, 'giải': 4, 'minh': 4, 'an': 4, 'phát': 4, 'trang': 4, 'phong': 4, 'phương': 4, 'thảo': 4, 'ngọc': 4, 'demo': 3, 'món': 3, 'ghé': 3, 'lỡ': 3, 'đẹp': 3, 'thăm': 3, 'mẫu': 3, 'store': 3, 'đọc': 3, 'ngàn': 3, 'vui': 3, 'toán': 3, 'nguyên': 3, 'xếp': 3, 'trao': 3, 'a': 3, 'online': 3, 'tour': 3, 'chạy': 3, 'hội': 3, 'tầng': 3, 'gọi': 3, 'việt': 3, 'nguyễn': 3, 'hạnh': 3, 'hải': 3, 'tòa': 3, 'tphcm': 3, 'phút': 3, 'quang': 3, 'kịp': 3, 'nga': 3, 'lô': 3, 'nhật': 3, 'hòa': 3, 'trưa': 2, 'bảy': 2, 'đề': 2, 'nhập': 2, 'website': 2, 'thẻ': 2, 'hè': 2, 'hằng': 2, 'phép': 2, 'phim': 2, 'dạy': 2, 'tàu': 2, 'tiếng': 2, 'trẻ': 2, 'đán': 2, 'chờ': 2, 'quán': 2, 'tệp': 2, 'python': 2, 'giảng': 2, 'luận': 2, 'phú': 2, 'quốc': 2, 'chỗ': 2, 'nâng': 2, 'hiến': 2, 'máu': 2, 'úc': 2, 'chót': 2, 'văn': 2, 'vụ': 2, 'cựu': 2, 'dịp': 2, 'voucher': 2, 'miền': 2, 'núi': 2, 'blockchain': 2, 'ngành': 2, 'đầu': 2, 'speaking': 2, 'vietbank': 2, 'lâm': 2, 'đức': 2, 'ngân': 2, 'kho': 2, 'sửa': 2, 'hương': 2, 'hoàng': 2, 'tùng': 2, 'tiệc': 2, 'it': 2, 'logistics': 2, 'rảnh': 1, 'feedback': 1, 'dời': 1, 'duyệt': 1, 'định': 1, 'sẵn': 1, 'đông': 1, 'google': 1, 'play': 1, 'ios': 1, 'android': 1, 'ảnh': 1, 'đàn': 1, 'piano': 1, 'lập': 1, 'đo': 1, 'chân': 1, 'spa': 1, 'iii': 1, 'cmnd': 1, 'thiện': 1, 'nguyện': 1, 'gói': 1, 'nhấn': 1, 'tư': 1, 'sổ': 1, 'ii': 1, 'đường': 1, 'thiệp': 1, 'tri': 1, 'NUMhNUM': 1, 'rừng': 1, 'u': 1, 'hạ': 1, 'giày': 1, 'chấm': 1, 'công': 1, 'video': 1, 'giấy': 1, 'huế': 1, 'dự': 1, 'cưới': 1, 'quê': 1, 'tập': 1, 'gym': 1, 'trận': 1, 'nhắn': 1, 'khẩn': 1, 'b': 1, 'ngoại': 1, 'đấu': 1, 'internet': 1, 'vay': 1, 'vốn': 1, 'nạp': 1, 'vô': 1, 'gia': 1, 'cư': 1, 'kháchchúng': 1, 'nàytrân': 1, 'trọng': 1, 'nan': 1, 'ôn': 1, 'cũ': 1, 'niềm': 1, 'khối': 1, 'đăng': 1, 'ký': 1, 'cổng': 1, 'môn': 1, 'techfuture': 1, 'đà': 1, 'lạt': 1, 'xuân': 1, 'đón': 1, 'vnđngười': 1, 'bữa': 1, 'mát': 1, 'lạnh': 1, 'cánh': 1, 'đồng': 1, 'wwwxyzstorecom': 1, 'thankyouNUM': 1, 'xnk': 1, 'hộp': 1, 'ghi': 1, 'admin': 1, 'ielts': 1, 'luyện': 1, 'cafe': 1, 'NUMx': 1, 'NUMhNUMh': 1, 'du': 1, 'vincom': 1, 'center': 1, 'lê': 1, 'tiện': 1, 'trưởng': 1, 'bé': 1, 'sunview': 1, 'city': 1, 'thành': 1, 'wwwvitreemientrungorg': 1, 'green': 1, 'living': 1, 'đóng': 1, 'phí': 1, 'sofitel': 1, 'legend': 1, 'metropole': 1, 'hr': 1, 'team': 1, 'vietnam': 1, 'airlines': 1, 'gấp': 1, 'cường': 1, 'dũng': 1, 'hồng': 1, 'landmark': 1, 'suốt': 1, 'hiền': 1, 'vận': 1, 'vinh': 1, 'zoomlinkNUMcom': 1, 'khánh': 1, 'lọc': 1, 'thắng': 1, 'phúc': 1, 'in': 1, 'thu': 1, 'lý': 1, 'khoa': 1, 'vy': 1, 'loan': 1, 'vũ': 1, 'trâm': 1, 'hưng': 1, 'lotte': 1, 'bình': 1, 'iv': 1, 'quyên': 1, 'tâm': 1, 'thúy': 1, 'erp': 1, 'slide': 1})\n",
      "Từ ghép Spam: Counter({'tham_gia': 144, 'đăng_ký': 124, 'giảm_giá': 121, 'trị_giá': 119, 'miễn_phí': 114, 'ưu_đãi': 114, 'hôm_nay': 105, 'chúng_tôi': 104, 'cơ_hội': 98, 'chương_trình': 94, 'sản_phẩm': 88, 'đặc_biệt': 66, 'giải_thưởng': 55, 'mua_sắm': 45, 'tài_khoản': 44, 'ứng_dụng': 39, 'tất_cả': 39, 'cửa_hàng': 37, 'truy_cập': 35, 'chi_tiết': 34, 'đặt_hàng': 31, 'chúc_mừng': 30, 'khảo_sát': 30, 'du_lịch': 28, 'khách_hàng': 27, 'thông_tin': 24, 'đầu_tư': 22, 'phần_thưởng': 21, 'khuyến_mãi': 20, 'khám_phá': 20, 'hấp_dẫn': 19, 'kiểm_tra': 18, 'cao_cấp': 18, 'dịch_vụ': 18, 'sở_hữu': 18, 'áp_dụng': 17, 'cập_nhật': 16, 'vui_lòng': 16, 'điện_thoại': 15, 'liên_hệ': 15, 'số_lượng': 14, 'có_hạn': 14, 'ngân_hàng': 14, 'tư_vấn': 13, 'may_mắn': 13, 'chăm_sóc': 13, 'làm_đẹp': 13, 'thông_báo': 13, 'điện_tử': 12, 'công_nghệ': 12, 'bí_quyết': 12, 'sức_khỏe': 11, 'đầu_tiên': 11, 'quý_khách': 11, 'từ_chương_trình': 11, 'duy_nhất': 11, 'có_thể': 11, 'hoàn_tất': 11, 'giao_dịch': 10, 'hỗ_trợ': 10, 'sẵn_sàng': 10, 'toàn_bộ': 9, 'xác_nhận': 9, 'kỹ_năng': 9, 'thông_minh': 9, 'giới_thiệu': 9, 'bạn_bè': 9, 'sử_dụng': 9, 'xe_máy': 9, 'trực_tuyến': 9, 'phát_hiện': 9, 'an_toàn': 8, 'chuyên_nghiệp': 8, 'máy_bay': 8, 'tiền_mặt': 8, 'lãi_suất': 8, 'tín_dụng': 8, 'liên_kết': 8, 'hệ_thống': 7, 'nhanh_chóng': 7, 'trung_tâm': 7, 'thời_trang': 7, 'chiến_thắng': 7, 'kéo_dài': 7, 'độc_quyền': 7, 'làm_giàu': 7, 'ra_mắt': 7, 'phần_mềm': 6, 'trở_thành': 6, 'điện_máy': 6, 'thân_mến': 6, 'đội_ngũ': 6, 'tiếp_theo': 6, 'bất_kỳ': 6, 'máy_tính': 6, 'xe_hơi': 6, 'hoàn_toàn': 6, 'tận_hưởng': 6, 'thành_công': 6, 'tìm_hiểu': 6, 'cá_nhân': 6, 'sự_kiện': 6, 'hội_thảo': 5, 'kết_thúc': 5, 'lập_tức': 5, 'đăng_nhập': 5, 'siêu_thị': 5, 'vận_chuyển': 5, 'ô_tô': 5, 'học_phí': 5, 'mơ_ước': 5, 'bất_động_sản': 5, 'giá_trị': 5, 'tham_dự': 5, 'thực_phẩm': 5, 'nội_thất': 4, 'lập_trình': 4, 'cơ_bản': 4, 'tiết_kiệm': 4, 'bảo_hiểm': 4, 'vóc_dáng': 4, 'tổ_chức': 4, 'nâng_cấp': 4, 'bỏ_qua': 4, 'thiết_bị': 4, 'chứng_khoán': 4, 'bắt_đầu': 4, 'nổi_tiếng': 4, 'gia_dụng': 4, 'dự_án': 4, 'lợi_nhuận': 4, 'bảo_mật': 4, 'mặt_hàng': 4, 'đồng_hồ': 4, 'hướng_dẫn': 4, 'chức_năng': 4, 'thân_thiết': 4, 'hiệu_quả': 4, 'thành_viên': 4, 'thu_nhập': 4, 'dung_lượng': 4, 'thanh_toán': 4, 'nhập_khẩu': 3, 'chỉnh_sửa': 3, 'công_ty': 3, 'khứ_hồi': 3, 'thời_gian': 3, 'toàn_diện': 3, 'bảo_vệ': 3, 'gia_đình': 3, 'nền_tảng': 3, 'bất_ngờ': 3, 'bây_giờ': 3, 'địa_chỉ': 3, 'tăng_tốc': 3, 'chuẩn_bị': 3, 'thể_thao': 3, 'công_thức': 3, 'thay_đổi': 3, 'xác_minh': 3, 'tìm_kiếm': 3, 'siêu_tốc': 3, 'chia_sẻ': 3, 'học_viên': 3, 'quốc_tế': 3, 'nghỉ_dưỡng': 3, 'cấp_tốc': 3, 'kích_hoạt': 3, 'tài_liệu': 3, 'hoạt_động': 3, 'bất_thường': 3, 'dễ_dàng': 3, 'mỹ_phẩm': 3, 'gia_hạn': 3, 'hàng_đầu': 3, 'hóa_đơn': 3, 'hoàn_thành': 3, 'kinh_doanh': 3, 'tai_nghe': 3, 'tiếp_tục': 3, 'tăng_cường': 2, 'xã_hội': 2, 'chào_mừng': 2, 'điều_kiện': 2, 'tuyệt_vời': 2, 'khách_sạn': 2, 'tính_năng': 2, 'tạm_thời': 2, 'bảo_hiểm_nhân_thọ': 2, 'mong_muốn': 2, 'đối_tác': 2, 'xử_lý': 2, 'đầu_bếp': 2, 'không_thể': 2, 'phương_pháp': 2, 'phẫu_thuật': 2, 'chi_phí': 2, 'trang_web': 2, 'căn_hộ': 2, 'thành_phố': 2, 'bao_giờ': 2, 'cuộc_sống': 2, 'mật_khẩu': 2, 'quản_lý_tài_chính': 2, 'tham_khảo': 2, 'tốc_độ': 2, 'thương_mại': 2, 'tủ_lạnh': 2, 'nội_địa': 2, 'đồ_chơi': 2, 'trẻ_em': 2, 'kết_nối': 2, 'bí_mật': 2, 'lễ_hội': 2, 'cơ_hội_sở_hữu': 2, 'khắc_phục': 2, 'nhật_bản': 2, 'cải_thiện': 2, 'giải_pháp': 2, 'xác_thực': 2, 'cảnh_báo': 2, 'giáo_dục': 2, 'đẳng_cấp': 2, 'đầu_tư_thông_minh': 2, 'đơn_giản': 2, 'chất_lượng': 2, 'tài_chính': 2, 'hiện_thực': 2, 'chuyên_gia': 2, 'ngôi_sao': 2, 'công_cụ': 2, 'ăn_kiêng': 2, 'ngày_mai': 2, 'nấu_ăn': 2, 'thực_đơn': 2, 'lưu_trữ': 2, 'cảm_ơn': 2, 'cực_kỳ': 2, 'phiên_bản': 2, 'giả_mạo': 2, 'đào_tạo': 2, 'yêu_cầu': 2, 'âm_nhạc': 2, 'liệu_trình': 2, 'tập_luyện': 2, 'điện_thoại_di_động': 2, 'quản_lý': 2, 'cài_đặt': 2, 'nội_dung': 2, 'thiết_kế': 2, 'đồ_họa': 2, 'số_dư': 1, 'ghi_nhận': 1, 'thanh_toán_hóa_đơn': 1, 'thể_hình': 1, 'triển_khai': 1, 'hot_nhất': 1, 'đồng_tiền': 1, 'bản_thân': 1, 'rủi_ro': 1, 'kết_bạn': 1, 'bảo_trì': 1, 'bưu_kiện': 1, 'phát_triển': 1, 'giao_tiếp': 1, 'sang_trọng': 1, 'lý_tưởng': 1, 'bốc_thăm': 1, 'từ_thiên_nhiên': 1, 'trẻ_hóa_làn': 1, 'hân_hạnh': 1, 'giúp_đỡ': 1, 'lưu_ý': 1, 'vì_vậy': 1, 'nhân_dịp': 1, 'một_đôi': 1, 'vượt_trội': 1, 'thế_giới': 1, 'vi_phạm': 1, 'chính_sách': 1, 'khiếu_nại': 1, 'cảm_thấy': 1, 'tự_ti': 1, 'lo_lắng': 1, 'thiên_nhiên': 1, 'đột_phá': 1, 'thành_phần': 1, 'tự_nhiên': 1, 'đảm_bảo_an_toàn': 1, 'tác_dụng': 1, 'khám_phá_vẻ': 1, 'khẩn_cấp': 1, 'đà_nẵng': 1, 'toàn_quốc': 1, 'hiệu_năng': 1, 'cấu_hình': 1, 'mạnh_mẽ': 1, 'tín_chấp': 1, 'thịnh_vượng': 1, 'tri_ân': 1, 'lái_xe': 1, 'nhà_bếp': 1, 'trò_chơi': 1, 'hâm_mộ': 1, 'cố_gắng': 1, 'mộng_mơ': 1, 'trọn_gói': 1, 'đề_cập': 1, 'hàng_đầu_tiên': 1, 'thiền_định': 1, 'không_gian': 1, 'hiện_đại': 1, 'đầy_đủ': 1, 'tiện_ích': 1, 'tham_quan': 1, 'vấn_đề': 1, 'công_khai': 1, 'quy_trình': 1, 'nước_ngoài': 1, 'trở_lại': 1, 'hàn_quốc': 1, 'thực_hiện': 1, 'sưu_tập': 1, 'hoàn_mỹ': 1, 'xổ_số': 1, 'nhà_sách': 1, 'hành_trình': 1, 'phù_hợp': 1, 'bắt_đầu_từ': 1, 'mua_hóa_đơn': 1, 'kết_quả': 1, 'công_bố': 1, 'thị_trường': 1, 'ban_đầu': 1, 'cuối_cùng': 1, 'hợp_lệ': 1, 'theo_dõi': 1, 'lộ_trình': 1, 'dấu_hiệu': 1, 'kế_hoạch': 1, 'chuyên_đề': 1, 'trả_lời': 1, 'kiểm_soát': 1, 'huyết_áp': 1, 'rút_tiền': 1, 'máy_lạnh': 1, 'máy_giặt': 1, 'bổ_sung': 1, 'năng_lượng': 1, 'cơ_thể': 1, 'thẩm_mỹ_viện': 1, 'hoàng_gia': 1, 'thời_hạn': 1, 'cơ_bắp': 1, 'dinh_dưỡng': 1, 'thân_hình': 1, 'ngoại_ngữ': 1, 'hà_nội': 1, 'gián_đoạn': 1, 'trân_trọng': 1, 'chuyên_môn': 1, 'ước_mơ': 1, 'bền_vững': 1, 'áo_khoác': 1, 'liệu_pháp': 1, 'giày_dép': 1, 'nhạc_cụ': 1, 'luyện_tập': 1, 'giới_hạn': 1, 'hợp_đồng': 1, 'công_nhận': 1, 'trả_góp': 1, 'chờ_đợi': 1, 'giao_lưu': 1, 'văn_hóa': 1, 'thư_viện': 1, 'công_cộng': 1, 'việc_làm': 1, 'nghề_nghiệp': 1, 'thế_hệ': 1, 'khắc_nghiệt': 1, 'tiên_tiến': 1, 'yêu_cầu_hủy': 1, 'hủy_bỏ': 1, 'tối_ưu': 1, 'hiệu_suất': 1, 'tủ_đồ': 1, 'vạn_phát': 1, 'thường_niên': 1, 'chi_tiêu': 1, 'thần_tượng': 1, 'thụ_động': 1, 'nổi_bật': 1, 'phụ_kiện': 1, 'triệu_phú': 1, 'dài_hạn': 1, 'hạnh_phúc': 1, 'thủ_tục': 1, 'phê_duyệt': 1, 'trẻ_hóa': 1, 'tương_lai': 1, 'thế_chấp': 1, 'giải_ngân': 1, 'rửa_bát': 1, 'mới_lạ': 1, 'đô_thị': 1, 'đỉnh_cao': 1, 'siêu_thị_thực_phẩm': 1, 'thể_dục': 1, 'huấn_luyện': 1, 'huấn_luyện_viên': 1, 'có_mặt': 1, 'thao_tác': 1, 'nhà_hàng': 1, 'thi_viết': 1, 'có_giá': 1, 'trực_tiếp': 1, 'giải_cứu': 1, 'không_khí': 1, 'ngoài_ra': 1, 'đồng_hành': 1, 'xác_thực_tài_khoản': 1, 'bao_gồm': 1, 'lắp_đặt': 1, 'đón_nhận': 1, 'chuyên_gia_tài_chính': 1, 'xác_định': 1, 'lãnh_đạo': 1, 'cuộc_gọi': 1, 'ưu_tiên': 1, 'báo_cáo': 1, 'bảo_dưỡng': 1, 'tại_gia': 1, 'kim_cương': 1, 'cơ_sở': 1, 'dữ_liệu': 1, 'rò_rỉ': 1, 'tin_dùng': 1, 'đặt_cọc': 1, 'giám_sát': 1, 'khoa_học': 1, 'quan_trọng': 1, 'làm_chủ': 1, 'chuyên_sâu': 1, 'giảng_viên': 1, 'thực_hành': 1, 'thực_tế': 1, 'người_thân': 1, 'an_lành': 1, 'di_động': 1})\n",
      "Từ ghép Ham: Counter({'cảm_ơn': 126, 'chúng_ta': 125, 'kiểm_tra': 103, 'chúng_tôi': 102, 'tài_liệu': 96, 'vui_lòng': 95, 'báo_cáo': 81, 'chuẩn_bị': 80, 'chi_tiết': 79, 'dự_án': 72, 'thảo_luận': 70, 'thân_mến': 65, 'tham_gia': 63, 'bộ_phận': 57, 'ngày_mai': 51, 'kế_hoạch': 50, 'tổ_chức': 48, 'công_việc': 46, 'tiếp_theo': 45, 'thông_báo': 44, 'công_ty': 44, 'xác_nhận': 42, 'thông_tin': 41, 'phản_hồi': 41, 'cập_nhật': 39, 'tiến_độ': 38, 'hoàn_thành': 36, 'chương_trình': 36, 'ứng_dụng': 36, 'hôm_nay': 34, 'đăng_ký': 34, 'sản_phẩm': 33, 'hỗ_trợ': 33, 'trân_trọng': 30, 'cần_thiết': 29, 'tham_dự': 29, 'hội_thảo': 28, 'có_thể': 26, 'sự_kiện': 25, 'sáng_mai': 24, 'liên_hệ': 24, 'hệ_thống': 22, 'yêu_cầu': 21, 'tiếp_tục': 21, 'triển_khai': 20, 'lịch_trình': 19, 'thời_gian': 19, 'miễn_phí': 18, 'thanh_toán': 18, 'dịch_vụ': 18, 'ý_kiến': 17, 'bắt_đầu': 17, 'phát_triển': 17, 'giảm_giá': 17, 'ưu_đãi': 17, 'nhắc_nhở': 17, 'tài_chính': 16, 'tập_trung': 16, 'làm_việc': 15, 'chiến_lược': 15, 'cửa_hàng': 15, 'vấn_đề': 14, 'hiệu_quả': 14, 'khách_hàng': 13, 'phụ_huynh': 13, 'công_tác': 12, 'kết_quả': 12, 'đặc_biệt': 12, 'hợp_tác': 12, 'bất_kỳ': 11, 'tất_cả': 11, 'sử_dụng': 11, 'văn_phòng': 11, 'trực_tuyến': 10, 'sẵn_sàng': 10, 'đánh_giá': 10, 'chỉnh_sửa': 10, 'điều_chỉnh': 10, 'thay_đổi': 10, 'quản_lý': 10, 'kỹ_năng': 10, 'hợp_đồng': 10, 'ra_mắt': 9, 'công_nghệ': 9, 'trung_tâm': 9, 'thành_công': 9, 'quốc_tế': 9, 'kinh_doanh': 9, 'vui_vẻ': 8, 'tiến_hành': 8, 'hoàn_thiện': 8, 'đầy_đủ': 8, 'hoàn_tất': 8, 'đề_xuất': 8, 'cơ_hội': 8, 'mua_sắm': 8, 'khám_phá': 8, 'theo_dõi': 8, 'sức_khỏe': 8, 'có_mặt': 8, 'kỷ_niệm': 8, 'phỏng_vấn': 8, 'thiết_kế': 8, 'thuyết_trình': 7, 'sắp_xếp': 7, 'trao_đổi': 7, 'vào_cuộc': 7, 'chúc_mừng': 7, 'ngân_sách': 7, 'nhân_sự': 7, 'thi_đấu': 7, 'đối_tác': 7, 'học_kỳ': 7, 'quan_trọng': 6, 'xem_xét': 6, 'tin_tưởng': 6, 'cá_nhân': 6, 'dễ_dàng': 6, 'du_lịch': 6, 'đồng_hành': 6, 'định_kỳ': 6, 'cộng_đồng': 6, 'hồ_sơ': 6, 'hóa_đơn': 6, 'từ_thiện': 6, 'khách_sạn': 6, 'góp_ý': 6, 'đóng_góp': 5, 'hướng_dẫn': 5, 'nhanh_chóng': 5, 'thắc_mắc': 5, 'liên_quan': 5, 'bao_gồm': 5, 'khuyến_mãi': 5, 'nhân_dịp': 5, 'phát_hành': 5, 'kết_nối': 5, 'doanh_nghiệp': 5, 'phần_mềm': 5, 'bài_tập': 5, 'lớp_học': 5, 'bổ_sung': 5, 'đội_ngũ': 5, 'sinh_viên': 5, 'lãnh_đạo': 5, 'học_sinh': 5, 'nhà_trường': 5, 'kỹ_thuật': 5, 'hội_nghị': 4, 'giai_đoạn': 4, 'bắt_đầu_từ': 4, 'chắc_chắn': 4, 'thứ_sáu': 4, 'chăm_sóc': 4, 'nội_thất': 4, 'một_cách': 4, 'chia_sẻ': 4, 'tính_năng': 4, 'ngân_hàng': 4, 'nhà_hàng': 4, 'điện_thoại': 4, 'tài_khoản': 4, 'bảo_trì': 4, 'thư_viện': 4, 'đào_tạo': 4, 'danh_sách': 4, 'giao_lưu': 4, 'chuyên_đề': 4, 'tham_quan': 4, 'chủ_nhật': 4, 'giáo_viên': 4, 'hà_nội': 4, 'nhân_viên': 4, 'chủ_đề': 4, 'trực_tiếp': 4, 'tư_vấn': 4, 'kế_toán': 4, 'hành_chính': 4, 'phân_tích': 4, 'khảo_sát': 3, 'nhiệm_vụ': 3, 'thực_hiện': 3, 'hiện_tại': 3, 'thời_hạn': 3, 'thống_nhất': 3, 'mục_tiêu': 3, 'xem_xét_lại': 3, 'hoạt_động': 3, 'gia_dụng': 3, 'điện_tử': 3, 'hấp_dẫn': 3, 'vui_mừng': 3, 'áp_dụng': 3, 'khai_trương': 3, 'tận_hưởng': 3, 'máy_bay': 3, 'nền_tảng': 3, 'học_tập': 3, 'giao_diện': 3, 'tuyệt_vời': 3, 'doanh_thu': 3, 'tuyển_dụng': 3, 'nội_bộ': 3, 'đặt_hàng': 3, 'gặp_gỡ': 3, 'biên_bản': 3, 'lập_trình': 3, 'khởi_hành': 3, 'đà_lạt': 3, 'tập_luyện': 3, 'học_bổng': 3, 'đà_nẵng': 3, 'thú_vị': 3, 'bắt_đầu_vào': 3, 'giao_hữu': 3, 'hội_trường': 3, 'kinh_nghiệm': 3, 'vị_trí': 3, 'nghiên_cứu': 3, 'trẻ_em': 3, 'gia_hạn': 3, 'chuyên_gia': 3, 'thành_lập': 3, 'điều_hành': 3, 'giám_hiệu': 3, 'triển_lãm': 3, 'hội_chợ': 3, 'dự_kiến': 3, 'báo_giá': 3, 'anh_hùng': 3, 'thị_trường': 3, 'dữ_liệu': 3, 'truyền_thông': 3, 'cà_phê': 2, 'hôm_qua': 2, 'hy_vọng': 2, 'hữu_ích': 2, 'tốt_lành': 2, 'hoàn_thành_công_việc': 2, 'công_bố': 2, 'làm_ơn': 2, 'một_vài': 2, 'ngần_ngại': 2, 'xem_lại': 2, 'kỹ_lưỡng': 2, 'tốt_đẹp': 2, 'vấn_đề_tài_chính': 2, 'phân_bổ': 2, 'tham_khảo': 2, 'thời_trang': 2, 'sưu_tập': 2, 'trị_giá': 2, 'kéo_dài': 2, 'văn_phòng_phẩm': 2, 'ngoại_ngữ': 2, 'thành_phố': 2, 'chi_tiêu': 2, 'thể_dục': 2, 'đầu_sách': 2, 'giao_dịch': 2, 'thân_thiện': 2, 'phiên_bản': 2, 'chi_phí': 2, 'giới_thiệu': 2, 'sinh_nhật': 2, 'ứng_tuyển': 2, 'tập_huấn': 2, 'hợp_lý': 2, 'thủ_tục': 2, 'cài_đặt': 2, 'mở_rộng': 2, 'hành_lý': 2, 'bản_đồ': 2, 'bóng_đá': 2, 'thiết_bị': 2, 'địa_điểm': 2, 'nhận_xét': 2, 'gợi_ý': 2, 'hành_trình': 2, 'thành_tích': 2, 'lạc_bộ': 2, 'thể_thao': 2, 'mở_cửa': 2, 'phù_hợp': 2, 'cơ_bản': 2, 'gặp_mặt': 2, 'ý_nghĩa': 2, 'du_học': 2, 'thi_viết': 2, 'cổ_vũ': 2, 'giao_tiếp': 2, 'bảo_hiểm': 2, 'tổng_kết': 2, 'kết_thúc': 2, 'y_tế': 2, 'văn_nghệ': 2, 'chào_đón': 2, 'xu_hướng': 2, 'hàng_đầu': 2, 'chân_thành': 2, 'quyên_góp': 2, 'quan_tâm': 2, 'đón_tiếp': 2, 'tác_giả': 2, 'nổi_tiếng': 2, 'địa_chỉ': 2, 'ủng_hộ': 2, 'chuyển_đổi': 2, 'chủ_nhiệm': 2, 'chuyên_viên': 2, 'anh_minh': 2, 'họp_mặt': 2, 'đại_diện': 2, 'thành_đạt': 2, 'thư_ký': 2, 'giám_đốc': 2, 'quốc_gia': 2, 'dự_thảo': 2, 'pháp_chế': 2, 'ứng_viên': 2, 'nghiệm_thu': 2, 'anh_dũng': 2, 'đối_ngoại': 2, 'sửa_đổi': 2, 'vận_chuyển': 2, 'hộp_thư': 1, 'kiên_nhẫn': 1, 'liên_lạc': 1, 'tiếp_thị': 1, 'cập_nhật_báo_cáo': 1, 'kịp_thời': 1, 'tài_nguyên': 1, 'thành_viên': 1, 'lựa_chọn': 1, 'ưng_ý': 1, 'mẫu_mã': 1, 'quần_áo': 1, 'thân_thiết': 1, 'cực_kỳ': 1, 'mỹ_phẩm': 1, 'sắc_đẹp': 1, 'giày_dép': 1, 'nhập_khẩu': 1, 'chất_lượng': 1, 'tận_dụng': 1, 'hàng_đầu_tiên': 1, 'kiểm_soát': 1, 'tối_ưu_hóa': 1, 'ghi_chú': 1, 'thông_minh': 1, 'quản_lý_tài_khoản': 1, 'thông_báo_ứng_dụng': 1, 'lộ_trình': 1, 'cải_tiến': 1, 'trở_nên': 1, 'hiện_nay': 1, 'an_toàn': 1, 'giấc_ngủ': 1, 'giải_trí': 1, 'làm_đẹp': 1, 'giờ_đây': 1, 'cải_thiện': 1, 'tra_cứu': 1, 'người_yêu': 1, 'sinh_động': 1, 'khoảnh_khắc': 1, 'gia_đình': 1, 'lưu_giữ': 1, 'cây_cảnh': 1, 'thông_cảm': 1, 'thương_mại': 1, 'biên_lai': 1, 'dùng_bữa': 1, 'từ_chương_trình': 1, 'chuyên_ngành': 1, 'ghi_nhận': 1, 'nghệ_thuật': 1, 'bạn_hóa': 1, 'đóng_góp_ý_kiến': 1, 'bác_sĩ': 1, 'kích_hoạt': 1, 'đám_cưới': 1, 'đóng_cửa': 1, 'chào_hóa_đơn': 1, 'bản_thân': 1, 'kỹ_thuật_số': 1, 'bản_sao': 1, 'giao_cảm_ơn': 1, 'nghỉ_phép': 1, 'chính_sách': 1, 'giảng_viên': 1, 'kiến_thức': 1, 'đội_hình': 1, 'đội_tuyển': 1, 'giải_thể_thao': 1, 'cụ_thể': 1, 'ân_nhân_viên': 1, 'hạng_mục': 1, 'đăng_nhập': 1, 'thiên_nhiên': 1, 'thành_công_chúng_tôi': 1, 'tập_thể_dục': 1, 'trở_lại': 1, 'khởi_động': 1, 'chú_ý': 1, 'chứng_nhận': 1, 'sửa_chữa': 1, 'giáo_dục': 1, 'khu_vực': 1, 'sa_pa': 1, 'bố_mẹ': 1, 'vệ_sinh': 1, 'nhà_cửa': 1, 'khu_phố': 1, 'quy_hoạch': 1, 'tập_thể': 1, 'hội_viên': 1, 'nhân_đạo': 1, 'ôn_tập': 1, 'giáng_sinh': 1, 'chu_đáo': 1, 'học_phí': 1, 'công_đoàn': 1, 'xuất_sắc': 1, 'bưu_kiện': 1, 'nước_ngoài': 1, 'bưu_cục': 1, 'dã_ngoại': 1, 'giáo_khoa': 1, 'mật_khẩu': 1, 'khởi_nghiệp': 1, 'họp_báo_cáo': 1, 'âm_lịch': 1, 'giao_ban': 1, 'toàn_phần': 1, 'tình_nguyện': 1, 'thiện_nguyện': 1, 'lãi_suất': 1, 'thông_báo_hóa': 1, 'khoa_học': 1, 'biến_đổi': 1, 'khí_hậu': 1, 'biểu_diễn_văn_nghệ': 1, 'khai_giảng': 1, 'bảo_vệ': 1, 'môi_trường': 1, 'thực_tế': 1, 'lĩnh_vực': 1, 'tìm_hiểu': 1, 'giải_pháp': 1, 'đổi_mới': 1, 'liên_kết': 1, 'bạn_bè': 1, 'tri_ân': 1, 'siêu_thị': 1, 'toàn_quốc': 1, 'chuyên_nghiệp': 1, 'nhà_văn_hóa': 1, 'thanh_niên': 1, 'cộng_đồng_ý_nghĩa': 1, 'động_viên': 1, 'to_lớn': 1, 'toàn_bộ': 1, 'thành_tựu': 1, 'mong_chờ': 1, 'hiện_diện': 1, 'thách_thức': 1, 'phong_phú': 1, 'hân_hạnh': 1, 'tốt_nghiệp': 1, 'ôn_luyện': 1, 'giảng_dạy': 1, 'con_em': 1, 'tương_lai': 1, 'quy_tụ': 1, 'trí_tuệ': 1, 'nhân_tạo': 1, 'gian_hàng': 1, 'trưng_bày': 1, 'hoàn_toàn': 1, 'khứ_hồi': 1, 'không_khí': 1, 'bất_tận': 1, 'phục_vụ': 1, 'bệnh_viện': 1, 'chế_độ': 1, 'dinh_dưỡng': 1, 'phòng_tránh': 1, 'mãn_tính': 1, 'số_lượng': 1, 'có_hạn': 1, 'quý_khách': 1, 'truy_cập': 1, 'trà_sen': 1, 'cung_cấp': 1, 'thông_tin_vui_lòng': 1, 'phương_pháp': 1, 'đồng_thời': 1, 'luyện_tập': 1, 'kỳ_cựu': 1, 'nhắn_tin': 1, 'tiểu_học': 1, 'tình_hình_học_tập': 1, 'may_mắn': 1, 'tín_dụng': 1, 'chi_nhánh': 1, 'văn_sỹ': 1, 'chứng_minh': 1, 'nhân_dân': 1, 'quá_trình': 1, 'nội_dung': 1, 'mẫu_giáo': 1, 'cuối_cùng': 1, 'căn_hộ': 1, 'kêu_gọi': 1, 'vùng_cao': 1, 'quý_giá': 1, 'phản_ánh': 1, 'máy_chủ': 1, 'khắc_phục': 1, 'công_ty_tnhh': 1, 'bảo_hiểm_bình': 1, 'tình_trạng': 1, 'máy_in': 1, 'xử_lý': 1, 'giải_quyết': 1, 'năng_lực': 1, 'bảo_hiểm_nhân_thọ': 1, 'bảo_hiểm_bình_an': 1, 'quan_hệ': 1, 'đề_nghị': 1, 'sơ_bộ': 1, 'bàn_giao_cảm_ơn': 1, 'bình_thân_mến': 1, 'thống_kê': 1, 'điện_lạnh': 1, 'nhu_cầu': 1, 'vật_tư': 1, 'chính_xác': 1, 'lập_tức': 1, 'tiềm_năng': 1, 'tiêu_chí': 1, 'quy_trình': 1, 'đảm_bảo': 1, 'bảo_dưỡng': 1, 'gián_đoạn': 1, 'bàn_giao': 1, 'chính_thức': 1, 'tài_chính_trực_tiếp': 1, 'pháp_lý': 1, 'anh_em': 1, 'vận_hành': 1, 'hà_em': 1, 'công_trình': 1, 'hình_ảnh': 1, 'bản_vẽ': 1, 'thi_công': 1, 'ký_kết': 1, 'một_số': 1, 'tổng_hợp': 1, 'chiến_dịch': 1, 'nhung_hóa': 1, 'hàng_hóa': 1})\n"
     ]
    }
   ],
   "source": [
    "\n",
    "class Tienxulyvippro(BaseEstimator, TransformerMixin):\n",
    "    def __init__(self, stopwords_file='vietnamesestopwords.txt'):\n",
    "        with open(stopwords_file, 'r', encoding='utf-8') as f:\n",
    "            self.stopwords = set(f.read().splitlines())\n",
    "        self.tudonspam = Counter()\n",
    "        self.tudonham = Counter()\n",
    "        self.tughepspam = Counter()\n",
    "        self.tughepham = Counter()\n",
    "\n",
    "    def fit(self, X, y=None):\n",
    "        return self\n",
    "\n",
    "    def transform(self, X):\n",
    "        return [self._preprocess_text(text) for text in X]\n",
    "\n",
    "    def _preprocess_text(self, text, update_vocab=False, label=None):\n",
    "        if not isinstance(text, str):\n",
    "            text = str(text)\n",
    "        text = text.lower()\n",
    "        text = re.sub(r'\\d+', 'NUM', text)\n",
    "        text = re.sub(r'[^\\w\\s]', '', text)\n",
    "        text = text.strip()\n",
    "        tokens = ViTokenizer.tokenize(text).split()\n",
    "        tokens = [word for word in tokens if word not in self.stopwords]\n",
    "\n",
    "        if update_vocab and label is not None:\n",
    "            for token in tokens:\n",
    "                if '_' in token:  # Từ ghép\n",
    "                    if label == 1:\n",
    "                        self.tughepspam[token] += 1\n",
    "                    else:\n",
    "                        self.tughepham[token] += 1\n",
    "                else:  # Từ đơn\n",
    "                    if label == 1:\n",
    "                        self.tudonspam[token] += 1\n",
    "                    else:\n",
    "                        self.tudonham[token] += 1\n",
    "        return ' '.join(tokens)\n",
    "\n",
    "# Usage\n",
    "processor = Tienxulyvippro()\n",
    "df_balanced['tokens'] = df_balanced.apply(lambda row: processor._preprocess_text(text=row['v2'], update_vocab=True, label=row['label_num']), axis=1)\n",
    "print(\"Từ đơn Spam:\", processor.tudonspam)\n",
    "print(\"Từ đơn Ham:\", processor.tudonham)\n",
    "print(\"Từ ghép Spam:\", processor.tughepspam)\n",
    "print(\"Từ ghép Ham:\", processor.tughepham)"
   ]
  },
  {
   "cell_type": "code",
   "execution_count": 34,
   "metadata": {},
   "outputs": [],
   "source": [
    "import json\n",
    "with open(\"tudonspam.json\", \"w\", encoding=\"utf-8\") as f:\n",
    "    json.dump(dict(processor.tudonspam), f, ensure_ascii=False, indent=4)\n",
    "\n",
    "with open(\"tudonham.json\", \"w\", encoding=\"utf-8\") as f:\n",
    "    json.dump(dict(processor.tudonham), f, ensure_ascii=False, indent=4)\n",
    "\n",
    "with open(\"tughepspam.json\", \"w\", encoding=\"utf-8\") as f:\n",
    "    json.dump(dict(processor.tughepspam), f, ensure_ascii=False, indent=4)\n",
    "\n",
    "with open(\"tughepham.json\", \"w\", encoding=\"utf-8\") as f:\n",
    "    json.dump(dict(processor.tughepham), f, ensure_ascii=False, indent=4)\n"
   ]
  },
  {
   "cell_type": "code",
   "execution_count": 35,
   "metadata": {},
   "outputs": [],
   "source": [
    "\n",
    "\n",
    "class TextLengthExtractor(BaseEstimator, TransformerMixin):\n",
    "    def fit(self, x, y=None):\n",
    "        return self\n",
    "\n",
    "    def transform(self, texts):\n",
    "        return np.array([[len(text)] for text in texts])\n",
    "\n",
    "class UppercaseRatioExtractor(BaseEstimator, TransformerMixin):\n",
    "    def fit(self, x, y=None):\n",
    "        return self\n",
    "\n",
    "    def transform(self, texts):\n",
    "        return np.array([[sum(1 for c in text if c.isupper()) / len(text) if len(text) > 0 else 0] for text in texts])\n",
    "\n",
    "def create_feature_extractor():\n",
    "    return FeatureUnion([\n",
    "        ('tfidf', TfidfVectorizer(ngram_range=(1, 2), max_features=10000)),\n",
    "        ('text_length', TextLengthExtractor()),\n",
    "        ('uppercase_ratio', UppercaseRatioExtractor())\n",
    "    ])\n",
    "\n"
   ]
  },
  {
   "cell_type": "code",
   "execution_count": 36,
   "metadata": {},
   "outputs": [],
   "source": [
    "import torch\n",
    "from transformers import AutoTokenizer, AutoModel\n",
    "from sklearn.base import BaseEstimator, TransformerMixin\n",
    "\n",
    "class PhoBertFeatureExtractor(BaseEstimator, TransformerMixin):\n",
    "    def __init__(self, model_name='vinai/phobert-base', max_length=256):\n",
    "        self.model_name = model_name\n",
    "        self.max_length = max_length\n",
    "        self.tokenizer = AutoTokenizer.from_pretrained(self.model_name)\n",
    "        self.model = AutoModel.from_pretrained(self.model_name)\n",
    "        self.device = torch.device('cuda' if torch.cuda.is_available() else 'cpu')\n",
    "        self.model.to(self.device)\n",
    "\n",
    "    def fit(self, X, y=None):\n",
    "        return self\n",
    "\n",
    "    def transform(self, X):\n",
    "        self.model.eval()\n",
    "        features = []\n",
    "        \n",
    "        with torch.no_grad():\n",
    "            for text in X:\n",
    "                inputs = self.tokenizer(text, return_tensors='pt', max_length=self.max_length, truncation=True, padding='max_length')\n",
    "                inputs = {k: v.to(self.device) for k, v in inputs.items()}\n",
    "                outputs = self.model(**inputs)\n",
    "                pooled_output = outputs.last_hidden_state.mean(dim=1)\n",
    "                features.append(pooled_output.cpu().numpy().flatten())\n",
    "\n",
    "        return features"
   ]
  },
  {
   "cell_type": "code",
   "execution_count": 37,
   "metadata": {},
   "outputs": [],
   "source": [
    "from sklearn.ensemble import RandomForestClassifier\n",
    "from sklearn.model_selection import RandomizedSearchCV\n",
    "from scipy.stats import randint, uniform\n",
    "\n",
    "def create_model():\n",
    "    return RandomForestClassifier(random_state=42)\n",
    "\n",
    "def tune_model(model, X_train, y_train):\n",
    "    param_dist = {\n",
    "        'n_estimators': randint(100, 500),\n",
    "        'max_depth': [None] + list(range(10, 50)),\n",
    "        'min_samples_split': randint(2, 20),\n",
    "        'min_samples_leaf': randint(1, 20),\n",
    "        'max_features': [None, 'sqrt', 'log2'],\n",
    "        'bootstrap': [True, False],\n",
    "        'class_weight': [None, 'balanced', 'balanced_subsample']\n",
    "    }\n",
    "\n",
    "    random_search = RandomizedSearchCV(\n",
    "        model,\n",
    "        param_distributions=param_dist,\n",
    "        n_iter=100,\n",
    "        cv=5,\n",
    "        scoring='f1',\n",
    "        n_jobs=-1,\n",
    "        random_state=42,\n",
    "        verbose=1\n",
    "    )\n",
    "\n",
    "    random_search.fit(X_train, y_train)\n",
    "    return random_search.best_estimator_"
   ]
  },
  {
   "cell_type": "code",
   "execution_count": 42,
   "metadata": {},
   "outputs": [],
   "source": [
    "from sklearn.metrics import classification_report, confusion_matrix, roc_curve, auc\n",
    "import matplotlib.pyplot as plt\n",
    "import seaborn as sns\n",
    "import numpy as np\n",
    "\n",
    "def evaluate_model(model, X_test, y_test):\n",
    "    y_pred = model.predict(X_test)\n",
    "    y_pred_proba = model.predict_proba(X_test)[:, 1]\n",
    "\n",
    "    print(\"Classification Report:\")\n",
    "    print(classification_report(y_test, y_pred))\n",
    "\n",
    "    cm = confusion_matrix(y_test, y_pred)\n",
    "    plt.figure(figsize=(8, 6))\n",
    "    sns.heatmap(cm, annot=True, fmt=\"d\", cmap=\"Blues\")\n",
    "    plt.title(\"Confusion Matrix\")\n",
    "    plt.ylabel(\"True Label\")\n",
    "    plt.xlabel(\"Predicted Label\")\n",
    "    plt.show()\n",
    "\n",
    "    fpr, tpr, _ = roc_curve(y_test, y_pred_proba)\n",
    "    roc_auc = auc(fpr, tpr)\n",
    "    plt.figure(figsize=(8, 6))\n",
    "    plt.plot(fpr, tpr, color='darkorange', lw=2, label=f'ROC curve (AUC = {roc_auc:.2f})')\n",
    "    plt.plot([0, 1], [0, 1], color='navy', lw=2, linestyle='--')\n",
    "    plt.xlim([0.0, 1.0])\n",
    "    plt.ylim([0.0, 1.05])\n",
    "    plt.xlabel('False Positive Rate')\n",
    "    plt.ylabel('True Positive Rate')\n",
    "    plt.title('Receiver Operating Characteristic (ROC) Curve')\n",
    "    plt.legend(loc=\"lower right\")\n",
    "    plt.show()"
   ]
  },
  {
   "cell_type": "code",
   "execution_count": 43,
   "metadata": {},
   "outputs": [
    {
     "name": "stdout",
     "output_type": "stream",
     "text": [
      "Fitting 5 folds for each of 100 candidates, totalling 500 fits\n",
      "Classification Report:\n",
      "              precision    recall  f1-score   support\n",
      "\n",
      "           0       0.95      0.90      0.92       128\n",
      "           1       0.90      0.95      0.93       128\n",
      "\n",
      "    accuracy                           0.93       256\n",
      "   macro avg       0.93      0.93      0.93       256\n",
      "weighted avg       0.93      0.93      0.93       256\n",
      "\n"
     ]
    },
    {
     "data": {
      "image/png": "[encoded data removed]",
      "text/plain": [
       "<Figure size 800x600 with 2 Axes>"
      ]
     },
     "metadata": {},
     "output_type": "display_data"
    },
    {
     "data": {
      "image/png": "[encoded data removed]",
      "text/plain": [
       "<Figure size 800x600 with 1 Axes>"
      ]
     },
     "metadata": {},
     "output_type": "display_data"
    }
   ],
   "source": [
    "\n",
    "def main():\n",
    "    \n",
    "    # Preprocess data\n",
    "    preprocessor = Tienxulyvippro()\n",
    "    X = preprocessor.fit_transform(df_balanced['v2'])\n",
    "    y = df_balanced['v1'].map({'ham': 0, 'spam': 1})\n",
    "    \n",
    "    # Split data\n",
    "    X_train, X_test, y_train, y_test = train_test_split(X, y, test_size=0.2, random_state=42, stratify=y)\n",
    "    \n",
    "    # Extract features\n",
    "    feature_extractor = create_feature_extractor()\n",
    "    X_train_features = feature_extractor.fit_transform(X_train)\n",
    "    X_test_features = feature_extractor.transform(X_test)\n",
    "    \n",
    "    # Create and tune model\n",
    "    model = create_model()\n",
    "    tuned_model = tune_model(model, X_train_features, y_train)\n",
    "    \n",
    "    # Evaluate model\n",
    "    evaluate_model(tuned_model, X_test_features, y_test)\n",
    "\n",
    "if __name__ == \"__main__\":\n",
    "    main()"
   ]
  }
 ],
 "metadata": {
  "kernelspec": {
   "display_name": "Python 3",
   "language": "python",
   "name": "python3"
  },
  "language_info": {
   "codemirror_mode": {
    "name": "ipython",
    "version": 3
   },
   "file_extension": ".py",
   "mimetype": "text/x-python",
   "name": "python",
   "nbconvert_exporter": "python",
   "pygments_lexer": "ipython3",
   "version": "3.12.1"
  }
 },
 "nbformat": 4,
 "nbformat_minor": 2
}
